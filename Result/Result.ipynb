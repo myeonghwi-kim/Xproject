{
 "cells": [
  {
   "cell_type": "markdown",
   "metadata": {},
   "source": [
    "## ACM SenSys 2018 Conference\n",
    "\n",
    "### Posters and Demos Accepted \n",
    "#### DOI : https://doi.org/10.1145/3274783.3275168\n",
    "\n",
    "### Title\n",
    "#### Worldwide emerging disease-related information extraction system from news data\n",
    "\n",
    "### Authors\n",
    "#### Myeonghwi Kim (Department of Computer Science, Sangmyung Unversity)\n",
    "\n",
    "### Keyword\n",
    "#### Disease-related information; worldwide; emerging; topic; ranking; statistics; chart\n",
    "\n",
    "### Classification\n",
    "#### Health care information systems\n",
    "\n",
    "\n",
    "### Abstract\n",
    "Although there have been many researches on the disease information system with the increased interest in disease, the existing systems have limitations in terms of emerging disease monitoring and internationalization. The purpose of this study is to develop a worldwide emerging disease-related information extraction system from news data, which provides nation-specific disease related information, disease-related topic ranking, map-based number of news articles per region, and various charts showing top disease regions and diseases. Our system is now available on the web through\n",
    "\n"
   ]
  }
 ],
 "metadata": {
  "kernelspec": {
   "display_name": "Python 3",
   "language": "python",
   "name": "python3"
  },
  "language_info": {
   "codemirror_mode": {
    "name": "ipython",
    "version": 3
   },
   "file_extension": ".py",
   "mimetype": "text/x-python",
   "name": "python",
   "nbconvert_exporter": "python",
   "pygments_lexer": "ipython3",
   "version": "3.8.3"
  }
 },
 "nbformat": 4,
 "nbformat_minor": 4
}
